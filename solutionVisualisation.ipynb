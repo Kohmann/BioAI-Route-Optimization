{
 "cells": [
  {
   "cell_type": "code",
   "execution_count": 5,
   "metadata": {},
   "outputs": [],
   "source": [
    "import numpy as np\n",
    "import matplotlib.pyplot as plt\n",
    "import json\n",
    "\n",
    "#%matplotlib qt\n",
    "%matplotlib qt"
   ]
  },
  {
   "cell_type": "code",
   "execution_count": 6,
   "metadata": {
    "jupyter": {
     "source_hidden": true
    },
    "tags": []
   },
   "outputs": [],
   "source": [
    "def getPatientsFromFile(filepath):\n",
    "    # read file\n",
    "    with open(filepath, 'r') as myfile:\n",
    "        data=myfile.read()\n",
    "    # parse file\n",
    "    data = json.loads(data)\n",
    "    return data[\"patients\"]\n",
    "    \n",
    "    \n",
    "def plotRoutes(routes, filename:str = \"train_0.json\", annotate: bool = True):\n",
    "    file_path = \"Project 2/src/main/resources/\"\n",
    "    patients = getPatientsFromFile(file_path + filename)\n",
    "    \n",
    "    patient_locations = list()\n",
    "    patient_locations.append([40,50])\n",
    "    patients_starttime = list()\n",
    "    for patient in patients.values():\n",
    "        patients_starttime.append(patient[\"start_time\"])\n",
    "        patient_locations.append([patient[\"x_coord\"], patient[\"y_coord\"]])\n",
    "        \n",
    "    patient_locations = np.asarray(patient_locations)\n",
    "\n",
    " \n",
    "    \n",
    "\n",
    "\n",
    "    \n",
    "    fig, ax = plt.subplots()\n",
    "    ax.scatter(40, 50, c=\"black\", s=60)\n",
    "    ax.scatter(patient_locations[:,0], patient_locations[:,1], s=20, c=\"gray\")\n",
    "    #plt.colorbar()\n",
    "    if annotate is True:\n",
    "        for i, txt in enumerate(patients_starttime):\n",
    "            ax.annotate(str(i+1)+ \", \" + str(txt), (patient_locations[i+1,0], patient_locations[i+1,1]))\n",
    "\n",
    "    if routes:\n",
    "        if isinstance(routes[0], int):\n",
    "            routes = [routes]\n",
    "        \n",
    "        for i, route in enumerate(routes):\n",
    "            if route: # route is non-empty\n",
    "                newRoute = [0] + route + [0] #(np.array(route)+1).tolist()\n",
    "\n",
    "                singleRoute = patient_locations[newRoute]\n",
    "\n",
    "                plt.plot(singleRoute[:,0], singleRoute[:,1], label=i+1)\n",
    "                plt.show()\n"
   ]
  },
  {
   "cell_type": "code",
   "execution_count": 7,
   "metadata": {},
   "outputs": [],
   "source": [
    "# insert route given by GA program\n",
    "routes = [[], [], [], [], [], [], [], [], [], [], [], [], [], [], [32, 33, 31, 35, 37, 38, 39, 36, 34], [57, 55, 54, 53, 56, 58, 60, 59], [5, 3, 7, 8, 10, 11, 9, 6, 4, 2, 1, 75], [20, 24, 25, 27, 29, 30, 28, 26, 23, 22, 21], [43, 42, 41, 40, 44, 46, 45, 48, 51, 50, 52, 49, 47], [13, 17, 18, 19, 15, 16, 14, 12], [98, 96, 95, 94, 92, 93, 97, 100, 99], [81, 78, 76, 71, 70, 73, 77, 79, 80], [90, 87, 86, 83, 82, 84, 85, 88, 89, 91], [], [67, 65, 63, 62, 74, 72, 61, 64, 68, 66, 69]]\n"
   ]
  },
  {
   "cell_type": "code",
   "execution_count": 8,
   "metadata": {},
   "outputs": [],
   "source": [
    "filename = \"train_0.json\"\n",
    "plotRoutes(routes, filename, annotate=False)"
   ]
  }
 ],
 "metadata": {
  "kernelspec": {
   "display_name": "Python 3",
   "language": "python",
   "name": "python3"
  },
  "language_info": {
   "codemirror_mode": {
    "name": "ipython",
    "version": 3
   },
   "file_extension": ".py",
   "mimetype": "text/x-python",
   "name": "python",
   "nbconvert_exporter": "python",
   "pygments_lexer": "ipython3",
   "version": "3.7.0"
  }
 },
 "nbformat": 4,
 "nbformat_minor": 4
}
