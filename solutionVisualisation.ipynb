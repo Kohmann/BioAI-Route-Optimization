{
 "cells": [
  {
   "cell_type": "code",
   "execution_count": 12,
   "metadata": {},
   "outputs": [],
   "source": [
    "import numpy as np\n",
    "import matplotlib.pyplot as plt\n",
    "import json\n",
    "\n",
    "#%matplotlib qt\n",
    "%matplotlib qt"
   ]
  },
  {
   "cell_type": "code",
   "execution_count": 13,
   "metadata": {
    "jupyter": {
     "source_hidden": true
    },
    "tags": []
   },
   "outputs": [],
   "source": [
    "def getPatientsFromFile(filepath):\n",
    "    # read file\n",
    "    with open(filepath, 'r') as myfile:\n",
    "        data=myfile.read()\n",
    "    # parse file\n",
    "    data = json.loads(data)\n",
    "    return data[\"patients\"]\n",
    "    \n",
    "    \n",
    "def plotRoutes(routes, filename:str = \"train_0.json\", annotate: bool = True):\n",
    "    file_path = \"src/main/resources/\"\n",
    "    patients = getPatientsFromFile(file_path + filename)\n",
    "    \n",
    "    patient_locations = list()\n",
    "    patient_locations.append([40,50])\n",
    "    patients_starttime = list()\n",
    "    for patient in patients.values():\n",
    "        patients_starttime.append(patient[\"start_time\"])\n",
    "        patient_locations.append([patient[\"x_coord\"], patient[\"y_coord\"]])\n",
    "        \n",
    "    patient_locations = np.asarray(patient_locations)\n",
    "\n",
    "    \n",
    "    fig, ax = plt.subplots()\n",
    "    ax.scatter(40, 50, c=\"black\", s=60)\n",
    "    ax.scatter(patient_locations[:,0], patient_locations[:,1], s=20, c=\"gray\")\n",
    "    #plt.colorbar()\n",
    "    if annotate is True:\n",
    "        for i, txt in enumerate(patients_starttime):\n",
    "            ax.annotate(str(i+1)+ \", \" + str(txt), (patient_locations[i+1,0], patient_locations[i+1,1]))\n",
    "\n",
    "    if routes:\n",
    "        if isinstance(routes[0], int):\n",
    "            routes = [routes]\n",
    "        \n",
    "        for i, route in enumerate(routes):\n",
    "            if route: # route is non-empty\n",
    "                newRoute = [0] + route + [0] #(np.array(route)+1).tolist()\n",
    "\n",
    "                singleRoute = patient_locations[newRoute]\n",
    "\n",
    "                plt.plot(singleRoute[:,0], singleRoute[:,1], label=i+1)\n",
    "                plt.show()\n"
   ]
  },
  {
   "cell_type": "code",
   "execution_count": 32,
   "metadata": {},
   "outputs": [],
   "source": [
    "# insert route given by GA program\n",
    "routes = [[], [], [], [], [], [], [], [], [], [], [], [], [], [90, 82, 99, 87, 75, 58, 77], [85, 63, 89, 76, 51, 56, 80], [3, 5, 45, 46, 8, 7, 6, 2, 4, 1, 100], [92, 33, 27, 30, 32, 50, 71, 93, 96], [42, 44, 43, 38, 41, 61, 68], [39, 36, 40, 35, 37, 72, 54, 81], [91, 95, 62, 67, 34, 28, 26, 29, 31, 94], [65, 57, 83, 64, 84, 66], [69, 88, 53, 10, 13, 16, 17, 47], [20, 21, 23, 22, 49, 19, 18, 48, 25, 24], [12, 14, 15, 11, 9, 97, 59, 74, 86, 52], [98, 73, 79, 78, 60, 55, 70]]\n"
   ]
  },
  {
   "cell_type": "code",
   "execution_count": 34,
   "metadata": {},
   "outputs": [],
   "source": [
    "filename = \"test_1.json\"\n",
    "plotRoutes(routes, filename, annotate=False)"
   ]
  },
  {
   "cell_type": "code",
   "execution_count": null,
   "metadata": {},
   "outputs": [],
   "source": []
  }
 ],
 "metadata": {
  "kernelspec": {
   "display_name": "Python 3",
   "language": "python",
   "name": "python3"
  },
  "language_info": {
   "codemirror_mode": {
    "name": "ipython",
    "version": 3
   },
   "file_extension": ".py",
   "mimetype": "text/x-python",
   "name": "python",
   "nbconvert_exporter": "python",
   "pygments_lexer": "ipython3",
   "version": "3.7.0"
  }
 },
 "nbformat": 4,
 "nbformat_minor": 4
}
